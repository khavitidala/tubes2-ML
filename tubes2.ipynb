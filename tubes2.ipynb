{
  "cells": [
    {
      "cell_type": "code",
      "execution_count": null,
      "metadata": {
        "id": "YJRAHrgLPfUt"
      },
      "outputs": [],
      "source": [
        "import os\n",
        "import time\n",
        "import math\n",
        "import json\n",
        "import torch\n",
        "import random\n",
        "import seaborn as sns\n",
        "import pandas as pd\n",
        "import numpy as np\n",
        "import matplotlib.pyplot as plt\n",
        "from copy import deepcopy\n",
        "from tqdm import tqdm\n",
        "from sklearn.metrics import classification_report, accuracy_score, f1_score\n",
        "\n",
        "%matplotlib inline"
      ]
    },
    {
      "cell_type": "code",
      "execution_count": null,
      "metadata": {
        "id": "ap0jlt2cPYER"
      },
      "outputs": [],
      "source": [
        "torch.set_default_dtype(torch.float64) # melakukan set default floating precision ke 64"
      ]
    },
    {
      "cell_type": "code",
      "execution_count": null,
      "metadata": {
        "id": "k53w4klnJF6u"
      },
      "outputs": [],
      "source": [
        "def set_seed(seed):\n",
        "    \"\"\"\n",
        "    Set seed untuk mendapatkan reproducible result\n",
        "\n",
        "    Argumen:\n",
        "    seed -- angka berapapun sebagai seed pada pembangkit bilangan acak\n",
        "    \"\"\"\n",
        "    os.environ['PYTHONHASHSEED']=str(seed)\n",
        "    random.seed(seed)\n",
        "    np.random.seed(seed)\n",
        "    torch.manual_seed(seed)\n",
        "    torch.cuda.manual_seed(seed)"
      ]
    },
    {
      "cell_type": "code",
      "execution_count": null,
      "metadata": {
        "id": "D6Nw5vrAEenM"
      },
      "outputs": [],
      "source": [
        "path = \"/content/drive/MyDrive/Semester 5/Pembelajaran Mesin/Tugas II/\""
      ]
    },
    {
      "cell_type": "code",
      "execution_count": null,
      "metadata": {
        "id": "ZG_FUR1q_egR"
      },
      "outputs": [],
      "source": [
        "dftrain = pd.read_csv(path+\"encoded/training.csv\")\n",
        "dfvalid = pd.read_csv(path+\"encoded/validation.csv\")\n",
        "dftest = pd.read_csv(path+\"encoded/testing.csv\")"
      ]
    },
    {
      "cell_type": "code",
      "execution_count": null,
      "metadata": {
        "id": "_Lzrgmqc_kxs"
      },
      "outputs": [],
      "source": [
        "def convert_to_tensor(dfX):\n",
        "    \"\"\"\n",
        "    Fungsi untuk mengonversi dataframe menjadi tensor\n",
        "    \"\"\"\n",
        "    X = dfX.drop(\"Tertarik\", axis=1)\n",
        "    Y = dfX[\"Tertarik\"]\n",
        "    n_feature = X.shape[1]\n",
        "    m_example = X.shape[0]\n",
        "    datax = X.to_numpy()\n",
        "    datay = Y.to_numpy()\n",
        "    \n",
        "    # jika terdeteksi GPU, maka tensor akan diadaptasi dengan \"cuda\"\n",
        "    if torch.cuda.is_available():\n",
        "        data_y = torch.from_numpy(datay.reshape(1, datay.shape[0]).astype(np.float64)).to(torch.device(\"cuda\"))\n",
        "        data_x = torch.from_numpy(datax.transpose().astype(np.float64)).to(torch.device(\"cuda\"))\n",
        "    else:\n",
        "        data_y = torch.from_numpy(datay.reshape(1, datay.shape[0]).astype(np.float64))\n",
        "        data_x = torch.from_numpy(datax.transpose().astype(np.float64))\n",
        "    \n",
        "    return data_x, data_y, n_feature, m_example"
      ]
    },
    {
      "cell_type": "markdown",
      "metadata": {
        "id": "VvatjZ_IPYEV"
      },
      "source": [
        "# Building Block of Neural Netwok"
      ]
    },
    {
      "cell_type": "markdown",
      "metadata": {
        "id": "3ZeIzkuF88px"
      },
      "source": [
        "## Sigmoid"
      ]
    },
    {
      "cell_type": "code",
      "execution_count": null,
      "metadata": {
        "id": "M0T-_APX9A7X"
      },
      "outputs": [],
      "source": [
        "def sigmoid(Z):\n",
        "    \"\"\"\n",
        "    Implementasi fungsi aktivasi sigmoid di torch\n",
        "    \n",
        "    Argumen:\n",
        "    Z -- torch tensor dengan ukuran berapapun\n",
        "    \n",
        "    Return:\n",
        "    A -- keluaran dari sigmoid(z), ukurannya sama dengan Z\n",
        "    cache -- mengembalikan nilai Z, berguna pada saat backward propagation \n",
        "    \"\"\"\n",
        "\n",
        "    A = 1/(1+torch.exp(-Z))\n",
        "    cache = Z.detach().clone()\n",
        "    \n",
        "    return A, cache"
      ]
    },
    {
      "cell_type": "code",
      "execution_count": null,
      "metadata": {
        "id": "qyfqJ-x29IdD"
      },
      "outputs": [],
      "source": [
        "def sigmoid_backward(dA, cache):\n",
        "    \"\"\"\n",
        "    Implementasi backward propagation untuk satu unit SIGMOID.\n",
        "\n",
        "    Argumen:\n",
        "    dA -- gradien yang sudah diaktivasi dengan ukuran berapapun\n",
        "    cache -- 'Z' untuk menghitung backward propagation secara efisien\n",
        "\n",
        "    Return:\n",
        "    dZ -- Gradien dari cost berdasarkan nilai Z\n",
        "    \"\"\"\n",
        "\n",
        "    Z = cache.detach().clone()\n",
        "    \n",
        "    s = 1/(1+torch.exp(-Z))\n",
        "    dZ = torch.mul(dA, torch.mul(s, (1-s)))\n",
        "    \n",
        "    assert(tuple(dZ.size()) == tuple(Z.size()))\n",
        "    \n",
        "    return dZ"
      ]
    },
    {
      "cell_type": "markdown",
      "metadata": {
        "id": "JwpVvGbF85Bt"
      },
      "source": [
        "## ReLU"
      ]
    },
    {
      "cell_type": "code",
      "execution_count": null,
      "metadata": {
        "id": "jU1InC_I84Tg"
      },
      "outputs": [],
      "source": [
        "def relu(Z):\n",
        "    \"\"\"\n",
        "    Implementasi fungsi aktivasi ReLU\n",
        "\n",
        "    Argumen:\n",
        "    Z -- Nilai keluaran dari linear layer dengan ukuran berapapun\n",
        "\n",
        "    Return:\n",
        "    A -- Parameter yang sudah diaktivasi menggunakan ReLU, ukurannya sama dengan Z\n",
        "    cache -- mengembalikan nilai Z, berguna pada saat backward propagation \n",
        "    \"\"\"\n",
        "    A = torch.max(torch.tensor(0.0), Z)\n",
        "    \n",
        "    assert(tuple(A.size()) == tuple(A.size()))\n",
        "    \n",
        "    cache = Z.detach().clone()\n",
        "    return A, cache"
      ]
    },
    {
      "cell_type": "code",
      "execution_count": null,
      "metadata": {
        "id": "rQK4gtOz9LUO"
      },
      "outputs": [],
      "source": [
        "def relu_backward(dA, cache):\n",
        "    \"\"\"\n",
        "    Implementasi backward propagation untuk satu unit ReLU\n",
        "\n",
        "    Argumen:\n",
        "    dA -- gradien yang sudah diaktivasi dengan ukuran berapapun\n",
        "    cache -- 'Z' untuk menghitung backward propagation secara efisien\n",
        "\n",
        "    Return:\n",
        "    dZ -- Gradien dari cost berdasarkan nilai Z\n",
        "    \"\"\"\n",
        "\n",
        "    Z = cache\n",
        "    dZ = dA.detach().clone() # just converting dz to a correct object.\n",
        "    \n",
        "    # When z <= 0, you should set dz to 0 as well. \n",
        "    dZ[Z <= 0] = 0\n",
        "    \n",
        "    assert(tuple(dZ.size()) == tuple(Z.size()))\n",
        "    \n",
        "    return dZ"
      ]
    },
    {
      "cell_type": "markdown",
      "metadata": {
        "id": "0P3csbaH9P5b"
      },
      "source": [
        "## Inisialisasi Parameter"
      ]
    },
    {
      "cell_type": "code",
      "execution_count": null,
      "metadata": {
        "id": "evd7PZ_gP1iH"
      },
      "outputs": [],
      "source": [
        "def initialize_parameters_deep(layer_dims, seed=42):\n",
        "    \"\"\"\n",
        "    Argumen:\n",
        "    layer_dims -- struktur data list pada python yang mengandung dimensi dari setiap layer pada neural network yang dibangun\n",
        "    \n",
        "    Return:\n",
        "    parameters -- struktur data dictionary pada python yang mengandung parameter \"W1\", \"b1\", ..., \"WL\", \"bL\":\n",
        "                    Wl -- matriks dari bobot dengan ukuran (layer_dims[l], layer_dims[l-1])\n",
        "                    bl -- vektor dari nilai bias dengan ukuran (layer_dims[l], 1)\n",
        "    \"\"\"\n",
        "    set_seed(seed)\n",
        "    parameters = {}\n",
        "    L = len(layer_dims) # jumlah layer pada neural network\n",
        "\n",
        "    for l in range(1, L):\n",
        "        if torch.cuda.is_available():\n",
        "          parameters[\"W\" + str(l)] = torch.randn(layer_dims[l], layer_dims[l-1], dtype=torch.float64, device=torch.device(\"cuda\")) * 0.01\n",
        "          parameters[\"b\" + str(l)] = torch.zeros((layer_dims[l], 1), dtype=torch.float64, device=torch.device(\"cuda\"))\n",
        "        else:\n",
        "          parameters[\"W\" + str(l)] = torch.randn(layer_dims[l], layer_dims[l-1], dtype=torch.float64) * 0.01\n",
        "          parameters[\"b\" + str(l)] = torch.zeros((layer_dims[l], 1), dtype=torch.float64)\n",
        "\n",
        "        assert(tuple(parameters['W' + str(l)].size()) == (layer_dims[l], layer_dims[l - 1]))\n",
        "        assert(tuple(parameters['b' + str(l)].size()) == (layer_dims[l], 1))\n",
        "\n",
        "        \n",
        "    return parameters"
      ]
    },
    {
      "cell_type": "markdown",
      "metadata": {
        "id": "VR8i6zkx9T5i"
      },
      "source": [
        "## Forward Propagation"
      ]
    },
    {
      "cell_type": "markdown",
      "metadata": {
        "id": "2OVLf0Fs9XLn"
      },
      "source": [
        "### Forward pada Unit Linear"
      ]
    },
    {
      "cell_type": "code",
      "execution_count": null,
      "metadata": {
        "id": "Yanhu7rSQOcT"
      },
      "outputs": [],
      "source": [
        "def linear_forward(A, W, b):\n",
        "    \"\"\"\n",
        "    Implementasi fungsi linear pada forward propagation di satu layer\n",
        "\n",
        "    Arguments:\n",
        "    A -- akivasi dari layer sebelumnya (atau data masukan) dengan ukuran: (ukuran keluaran dari layer sebelumnya, banyaknya data)\n",
        "    W -- berupa matriks yang berisi bobot: tensor dengan ukuran: (ukuran layer saat ini, ukuran layer sebelumnya)\n",
        "    b -- vektor berisi bias, tensor dengan ukuran: (ukuran layer saat ini, 1)\n",
        "\n",
        "    Returns:\n",
        "    Z -- sebagai nilai masukan untuk fungsi aktivasi, atau bisa juga disebut parameter pre-activation \n",
        "    cache -- struktur data tuple pada python yang berisi \"A\", \"W\", dan \"b\" ; disimpan untuk melakukan penghitungan backward secara efisien\n",
        "    \"\"\"\n",
        "\n",
        "    Z = torch.matmul(W, A)+b\n",
        "    \n",
        "    cache = (A.detach().clone(), W.detach().clone(), b.detach().clone())\n",
        "    \n",
        "    return Z, cache"
      ]
    },
    {
      "cell_type": "markdown",
      "metadata": {
        "id": "TN6Gpe3C9fHC"
      },
      "source": [
        "### Forward pada Fungsi Aktivasi"
      ]
    },
    {
      "cell_type": "code",
      "execution_count": null,
      "metadata": {
        "id": "LoffTFk_QYtR"
      },
      "outputs": [],
      "source": [
        "def linear_activation_forward(A_prev, W, b, activation):\n",
        "    \"\"\"\n",
        "    Implementasi dari forward propagation untuk layer LINEAR->ACTIVATION\n",
        "\n",
        "    Argument:\n",
        "    A_prev -- aktivasi dari layer sebelumnya (atau berupa data masukan) dengan ukuran: (ukuran keluaran dari layer sebelumnya, banyaknya data)\n",
        "    W -- berupa matriks yang berisi bobot: tensor dengan ukuran: (ukuran layer saat ini, ukuran layer sebelumnya)\n",
        "    b -- vektor berisi bias, tensor dengan ukuran: (ukuran layer saat ini, 1)\n",
        "    activation -- aktivasi yang akan digunakan pada layer ini, disimpan dalam sebuah string teks berupa: \"sigmoid\" atau \"relu\"\n",
        "\n",
        "    Returns:\n",
        "    A -- merupakan keluaran dari fungsi aktivasi. atau disebut juga nilai post-activation value \n",
        "    cache -- astruktur data tuple pada python yang berisi \"linear_cache\" adan \"activation_cache\";\n",
        "             disimpan untuk melakukan penghitungan backward secara efisien\n",
        "    \"\"\"\n",
        "    \n",
        "    if activation == \"sigmoid\":\n",
        "        Z, linear_cache = linear_forward(A_prev, W, b)\n",
        "        A, activation_cache = sigmoid(Z)\n",
        "    \n",
        "    elif activation == \"relu\":\n",
        "        Z, linear_cache = linear_forward(A_prev, W, b)\n",
        "        A, activation_cache = relu(Z)\n",
        "        \n",
        "    cache = (linear_cache, activation_cache)\n",
        "\n",
        "    return A, cache"
      ]
    },
    {
      "cell_type": "markdown",
      "metadata": {
        "id": "OR-6Zmeb9sA6"
      },
      "source": [
        "### Akumulasi Forward pada Model"
      ]
    },
    {
      "cell_type": "code",
      "execution_count": null,
      "metadata": {
        "id": "A40mu_hIQroz"
      },
      "outputs": [],
      "source": [
        "def L_model_forward(X, parameters):\n",
        "    \"\"\"\n",
        "    Implementasi dari forward propagation untuk penghitungan [LINEAR->RELU]*(L-1)->LINEAR->SIGMOID \n",
        "\n",
        "    Arguments:\n",
        "    X -- data, berupa tensor dengan ukuran (ukuran data masukan, banyaknya data)\n",
        "    parameters -- merupakan keluaran dari subprogram initialize_parameters_deep()\n",
        "    \n",
        "    Returns:\n",
        "    AL -- nilai aktivasi dari keluaran pada layer terakhir\n",
        "    caches -- struktur data list yang berisi:\n",
        "                semua cache dari linear_activation_forward() (ada sebanyak L, diindeks dari 0 sampai L-1)\n",
        "    \"\"\"\n",
        "\n",
        "    caches = []\n",
        "    A = X.detach().clone()\n",
        "    L = len(parameters) // 2                  # banyaknya layer pada neural network\n",
        "    \n",
        "    # Implementasi [LINEAR -> RELU]*(L-1). Menambahkan \"cache\" ke list dari \"caches\" \n",
        "    # Perulangan dimulai dari 1 karena layer 0 adalah input\n",
        "    \n",
        "    for l in range(1, L):\n",
        "        A_prev = A \n",
        "        A, cache = linear_activation_forward(A, parameters['W' + str(l)], parameters['b' + str(l)], \"relu\")\n",
        "        caches.append(cache)\n",
        "        \n",
        "    AL, cache = linear_activation_forward(A, parameters['W' + str(L)], parameters['b' + str(L)], \"sigmoid\")\n",
        "    caches.append(cache)\n",
        "          \n",
        "    return AL, caches"
      ]
    },
    {
      "cell_type": "markdown",
      "metadata": {
        "id": "vXkQ1pM895-p"
      },
      "source": [
        "### Penghitungan Cost"
      ]
    },
    {
      "cell_type": "code",
      "execution_count": null,
      "metadata": {
        "id": "qxe8ivGpQ0ci"
      },
      "outputs": [],
      "source": [
        "def compute_cost(AL, Y):\n",
        "    \"\"\"\n",
        "    Implementasi dari cost function, berupa rerata loss untuk semua data \n",
        "\n",
        "    Arguments:\n",
        "    AL -- vektor yang berisi peluang berdasarkan label dari data yang diprediksi, ukurannya (1, banyaknya data)\n",
        "    Y -- vektor yang berisi \"label\" data yang sebenarnya/label pada data training \n",
        "        (sebagai contoh: berisi 0 jika pelanggak tidak tertarik, 1 jika tertarik [pada kasus data pelanggan]), ukurannya (1, banyaknya data)\n",
        "\n",
        "    Returns:\n",
        "    cost -- cross-entropy cost\n",
        "    \"\"\"\n",
        "\n",
        "    m = tuple(Y.size())[1]\n",
        "\n",
        "    cost = (-1/m)*torch.sum(torch.multiply(Y, torch.log(AL))+torch.multiply(1-Y,torch.log(1-AL)), dtype=torch.float64)\n",
        "    \n",
        "    cost = torch.squeeze(cost).to(torch.float64)    # squeeze digunakan untuk memastikan ukuran dari hasil penghitungan cost merupkan sebuah angka tunggal, bukan tensor dengan dimensi banyak\n",
        "                                                    # (misal, torch.squeeze([[37]]) akan menghasilkan 37).\n",
        "\n",
        "    \n",
        "    return cost"
      ]
    },
    {
      "cell_type": "markdown",
      "metadata": {
        "id": "auL72_Y--IxU"
      },
      "source": [
        "## Backward Propagation"
      ]
    },
    {
      "cell_type": "markdown",
      "metadata": {
        "id": "4wr8gdR7-Nla"
      },
      "source": [
        "### Backward pada Unit Linear"
      ]
    },
    {
      "cell_type": "code",
      "execution_count": null,
      "metadata": {
        "id": "bFOmjFeAQ8mc"
      },
      "outputs": [],
      "source": [
        "def linear_backward(dZ, cache):\n",
        "    \"\"\"\n",
        "    Implementasi dari backward propagation pada fungsi linear untuk satu\n",
        "\n",
        "    Arguments:\n",
        "    dZ -- Gradien dari dari cost berdasarkan keluaran dari fungsi linear (dari layer l saat ini)\n",
        "    cache -- struktur data tuple yang berisi nilai dari (A_prev, W, b), berasal dari forward propagation di layer saat ini\n",
        "\n",
        "    Returns:\n",
        "    dA_prev -- Gradien dari cost terhadap aktivasi (dari layer sebelumnya l-1), ukurannya sama seperti A_prev\n",
        "    dW -- Gradien dari cost terhadap  W (layer l saat ini), ukurannya sama seperti W\n",
        "    db -- Gradien dari cost terhadap b (layer l saat ini), ukurannya sama seperti b\n",
        "    \"\"\"\n",
        "    A_prev, W, b = cache\n",
        "    m = A_prev.shape[1]\n",
        "\n",
        "    dW = (1/m)*torch.matmul(dZ, A_prev.t())\n",
        "    db = (1/m)*torch.sum(dZ, axis=1, keepdims=True, dtype=torch.float64)\n",
        "    dA_prev = torch.matmul(W.T, dZ)\n",
        "    \n",
        "    return dA_prev, dW, db"
      ]
    },
    {
      "cell_type": "markdown",
      "metadata": {
        "id": "OX4D3OTT-RIj"
      },
      "source": [
        "### Backward pada Fungsi Aktivasi"
      ]
    },
    {
      "cell_type": "code",
      "execution_count": null,
      "metadata": {
        "id": "nwgV9RcbRtFC"
      },
      "outputs": [],
      "source": [
        "def linear_activation_backward(dA, cache, activation):\n",
        "    \"\"\"\n",
        "    Implementasi backward propagation untuk layer LINEAR->ACTIVATION.\n",
        "    \n",
        "    Arguments:\n",
        "    dA -- post-activation gradient untuk layer l saat ini \n",
        "    cache -- struktur data tuple yang bernilai (linear_cache, activation_cache) \n",
        "    activation -- aktivasi yang digunakan pada layer ini, disimpan dalam sebuah sting teks: \"sigmoid\" atau \"relu\"\n",
        "    \n",
        "    Returns:\n",
        "    dA_prev -- Gradien dari cost terhadap aktivasi (dari layer sebelumnya l-1), ukurannya sama seperti A_prev\n",
        "    dW -- Gradien dari cost terhadap  W (layer l saat ini), ukurannya sama seperti W\n",
        "    db -- Gradien dari cost terhadap b (layer l saat ini), ukurannya sama seperti b\n",
        "    \"\"\"\n",
        "    linear_cache = cache[0]\n",
        "    activation_cache = cache[1]\n",
        "    \n",
        "    if activation == \"relu\":\n",
        "        dZ = relu_backward(dA, activation_cache)\n",
        "        dA_prev, dW, db = linear_backward(dZ, linear_cache)\n",
        "        \n",
        "    elif activation == \"sigmoid\":\n",
        "        dZ = sigmoid_backward(dA, activation_cache)\n",
        "        dA_prev, dW, db = linear_backward(dZ, linear_cache)\n",
        "    \n",
        "    return dA_prev, dW, db"
      ]
    },
    {
      "cell_type": "markdown",
      "metadata": {
        "id": "GV6O2rMZ-naF"
      },
      "source": [
        "### Akumulasi Backward pada Model"
      ]
    },
    {
      "cell_type": "code",
      "execution_count": null,
      "metadata": {
        "id": "oSpxpB-pR0I8"
      },
      "outputs": [],
      "source": [
        "def L_model_backward(AL, Y, caches):\n",
        "    \"\"\"\n",
        "    Implementasi dari akumulasi backward propagation pada model [LINEAR->RELU] * (L-1) -> LINEAR -> SIGMOID\n",
        "    \n",
        "    Arguments:\n",
        "    AL -- vektor yang berisi probabilitas, merupakan keluaran dari hasil forward propagation (L_model_forward())\n",
        "    Y -- vektor yang berisi label pada data yang dipakai (berisi 0 jika pelanggan tidak tertarik, dan 1 jika tertarik)\n",
        "    caches -- struktur data list yang berisi caches:\n",
        "                setiap cache dari linear_activation_forward() dengan aktivasi \"relu\" (isinya caches[l], for l in range(L-1) i.e l = 0...L-2)\n",
        "                cache dari linear_activation_forward() dengan aktivasi \"sigmoid\" (isinya caches[L-1])\n",
        "    \n",
        "    Returns:\n",
        "    grads -- Struktur data dictionary dengan gradient\n",
        "             grads[\"dA\" + str(l)] = ... \n",
        "             grads[\"dW\" + str(l)] = ...\n",
        "             grads[\"db\" + str(l)] = ... \n",
        "    \"\"\"\n",
        "    grads = {}\n",
        "    L = len(caches) # the number of layers\n",
        "    m = tuple(AL.size())[1]\n",
        "    Y = Y.reshape(tuple(AL.size())) # after this line, Y is the same shape as AL\n",
        "    \n",
        "    # Initializing the backpropagation\n",
        "    dAL = - (torch.divide(Y, AL) - torch.divide(1 - Y, 1 - AL)) # derivative of cost with respect to AL\n",
        "    \n",
        "    # Lth layer (SIGMOID -> LINEAR) gradients. Inputs: \"dAL, current_cache\". Outputs: \"grads[\"dAL-1\"], grads[\"dWL\"], grads[\"dbL\"]\n",
        "    \n",
        "    current_cache = caches[-1]\n",
        "    dA_prev_temp, dW_temp, db_temp = linear_activation_backward(dAL, current_cache, \"sigmoid\")\n",
        "    grads[\"dA\" + str(L-1)] = dA_prev_temp.detach().clone()\n",
        "    grads[\"dW\" + str(L)] = dW_temp.detach().clone()\n",
        "    grads[\"db\" + str(L)] = db_temp.detach().clone()\n",
        "    \n",
        "    # Loop from l=L-2 to l=0\n",
        "    for l in reversed(range(L-1)):\n",
        "        # lth layer: (RELU -> LINEAR) gradients.\n",
        "        # Inputs: \"grads[\"dA\" + str(l + 1)], current_cache\". Outputs: \"grads[\"dA\" + str(l)] , grads[\"dW\" + str(l + 1)] , grads[\"db\" + str(l + 1)] \n",
        "        current_cache = caches[l]\n",
        "        dA_prev_temp, dW_temp, db_temp = linear_activation_backward(grads[\"dA\" + str(l + 1)], current_cache, \"relu\")\n",
        "        grads[\"dA\" + str(l)] = dA_prev_temp.detach().clone()\n",
        "        grads[\"dW\" + str(l+1)] = dW_temp.detach().clone()\n",
        "        grads[\"db\" + str(l+1)] = db_temp.detach().clone()\n",
        "  \n",
        "    return grads"
      ]
    },
    {
      "cell_type": "markdown",
      "metadata": {
        "id": "hRjC0hFs-t2K"
      },
      "source": [
        "## Update Parameter"
      ]
    },
    {
      "cell_type": "code",
      "execution_count": null,
      "metadata": {
        "id": "mvtTiAYJSEI9"
      },
      "outputs": [],
      "source": [
        "def update_parameters(params, grads, learning_rate):\n",
        "    \"\"\"\n",
        "    Memperbarui parameter menggunakan gradient descent\n",
        "    \n",
        "    Arguments:\n",
        "    params -- struktur data dictionary yang berisi parameter \n",
        "    grads -- struktur data dictionary yang berisi gradient, merupakan keluaran dari L_model_backward\n",
        "    \n",
        "    Returns:\n",
        "    parameters -- struktur data dictionary yang berisi parameter yang sudah diperbarui \n",
        "                  parameters[\"W\" + str(l)] = ... \n",
        "                  parameters[\"b\" + str(l)] = ...\n",
        "    \"\"\"\n",
        "    parameters = params.copy()\n",
        "    L = len(parameters) // 2 # number of layers in the neural network\n",
        "\n",
        "    # Update rule for each parameter. Use a for loop.\n",
        "    for l in range(L):\n",
        "        parameters[str(\"W\" + str(l+1))] =  parameters[str(\"W\" + str(l+1))] - (learning_rate*grads[\"dW\" + str(l+1)])\n",
        "        parameters[str(\"b\" + str(l+1))] =  parameters[str(\"b\" + str(l+1))] - (learning_rate*grads[\"db\" + str(l+1)])\n",
        "\n",
        "    return parameters"
      ]
    },
    {
      "cell_type": "markdown",
      "metadata": {
        "id": "6cGZLqbQ_ASQ"
      },
      "source": [
        "## Prediksi"
      ]
    },
    {
      "cell_type": "code",
      "execution_count": null,
      "metadata": {
        "id": "Qp6tMYFJgY_l"
      },
      "outputs": [],
      "source": [
        "def predict(X, y, parameters):\n",
        "    \"\"\"\n",
        "    Fungsi yang digunakan untuk memprediksi data berdasarkan model neural network yang sudah dibangun\n",
        "    \n",
        "    Arguments:\n",
        "    X -- data yang akan diprediksi\n",
        "    y -- label sebenarnya (jika ada)\n",
        "    parameters -- parameter dari model yang sudah ditraining\n",
        "    \n",
        "    Returns:\n",
        "    p -- hasil prediksi dari data X\n",
        "    f1 -- macro average f-1 score\n",
        "    cost -- cost dari data\n",
        "    \"\"\"\n",
        "    \n",
        "    m = tuple(X.size())[1]\n",
        "    n = len(parameters) // 2 # banyaknya layer pada neural network\n",
        "    p = torch.zeros((1,m))\n",
        "    \n",
        "    # Forward propagation\n",
        "    probas, caches = L_model_forward(X, parameters)\n",
        "\n",
        "    cost = compute_cost(probas, y)\n",
        "    \n",
        "    # mengonversi probas ke prediksi biner 0/1\n",
        "    for i in range(0, tuple(probas.size())[1]):\n",
        "        if probas[0,i] > 0.5:\n",
        "            p[0,i] = 1\n",
        "        else:\n",
        "            p[0,i] = 0\n",
        "    \n",
        "    f1 = f1_score(y.cpu().numpy()[0], p.cpu().numpy()[0], average='macro')\n",
        "\n",
        "    return p, f1, cost"
      ]
    },
    {
      "cell_type": "markdown",
      "metadata": {
        "id": "R4Bs-Q6jPYEj"
      },
      "source": [
        "# Eksperimen I: Vanilla Neural Network"
      ]
    },
    {
      "cell_type": "markdown",
      "metadata": {
        "id": "i_e7QXmY-8ZR"
      },
      "source": [
        "## Pemodelan"
      ]
    },
    {
      "cell_type": "code",
      "execution_count": null,
      "metadata": {
        "id": "uRzVHOGaEmMq"
      },
      "outputs": [],
      "source": [
        "def L_layer_model(X, Y, valid_x, valid_y, layers_dims, learning_rate = 0.0075, num_iterations = 3000, \n",
        "                  print_cost=False, seed=42, patience=50, valid_criterion=\"valid_cost\", early_stopping=False):\n",
        "\n",
        "    set_seed(seed) # mengeset nilai seed supaya hasilnya reproducible\n",
        "    costs = [] # merekam nilai cost pada data training\n",
        "    \n",
        "    record_val = {} # merekam nilai performansi pada data validasi\n",
        "    record_val[\"f1\"] = []\n",
        "    record_val[\"cost\"] = []\n",
        "    \n",
        "    # inisialisasi parameter.\n",
        "    parameters = initialize_parameters_deep(layers_dims)\n",
        "    best_params = parameters\n",
        "    ep = 0\n",
        "    stop = 0 # variabel untuk mengontrol early stopping\n",
        "    \n",
        "    # inisialisasi jika early stopping bernilai True\n",
        "    if early_stopping:\n",
        "        if valid_criterion == \"valid_cost\":\n",
        "            _, _, best_val = predict(valid_x, valid_y, parameters)\n",
        "        elif valid_criterion == \"f1\":\n",
        "            _, best_f1, _ = predict(valid_x, valid_y, parameters)\n",
        "\n",
        "    # Perulangan (gradient descent)\n",
        "    for i in tqdm(range(1, num_iterations+1)):\n",
        "        \n",
        "        # jika performansi model memburuk selama patience iterasi, maka hentikan training\n",
        "        if stop == patience:\n",
        "            print(i)\n",
        "            break\n",
        "        \n",
        "        # Forward propagation: [LINEAR -> RELU]*(L-1) -> LINEAR -> SIGMOID.\n",
        "        AL, caches = L_model_forward(X, parameters)\n",
        "        \n",
        "        # Menghitung cost.\n",
        "        cost = compute_cost(AL, Y)\n",
        "    \n",
        "        # Backward propagation.\n",
        "        grads = L_model_backward(AL, Y, caches)\n",
        " \n",
        "        # Memperbarui parameter.\n",
        "        parameters = update_parameters(parameters, grads, learning_rate)\n",
        "        \n",
        "        ep = ep + 1\n",
        "        \n",
        "        # Menyimpan parameter terbaik berdasarkan valid_criterion\n",
        "        if early_stopping:\n",
        "            if valid_criterion == \"valid_cost\":\n",
        "                _, current_f1_val, current_val = predict(valid_x, valid_y, parameters)\n",
        "                record_val[\"cost\"].append(current_val)\n",
        "                record_val[\"f1\"].append(current_f1_val)\n",
        "                if current_val >= best_val:\n",
        "                    stop += 1\n",
        "                else:\n",
        "                    best_params = deepcopy(parameters)\n",
        "                    best_val = current_val\n",
        "                    stop = 0\n",
        "            elif valid_criterion == \"f1\":\n",
        "                _, current_f1_val, current_val = predict(valid_x, valid_y, parameters)\n",
        "                record_val[\"f1\"].append(current_f1_val)\n",
        "                record_val[\"cost\"].append(current_val)\n",
        "                if current_f1_val <= best_f1:\n",
        "                    stop += 1\n",
        "                else:\n",
        "                    best_params = deepcopy(parameters)\n",
        "                    best_f1 = current_f1_val\n",
        "                    stop = 0\n",
        "                    \n",
        "        \n",
        "        # Mencetak cost setiap 100 iterasi\n",
        "        if print_cost and i % 100 == 0:\n",
        "            print(\"\\nTraining cost after iteration {}: {}\".format(i, torch.squeeze(cost)))\n",
        "        #if i % 100 == 0 or i == num_iterations:\n",
        "        costs.append(cost)\n",
        "    \n",
        "    print(\"\\nTraining cost after iteration {} and stop training after {}: {}\".format(ep, ep-stop,  torch.squeeze(cost)))\n",
        "    \n",
        "    # evaluasi performansi pada data validasi menggunakan parameter terbaik pada data training\n",
        "    _, f1_val, current_val = predict(valid_x, valid_y, best_params)\n",
        "    \n",
        "    return best_params, costs, current_val, ep-stop, f1_val, record_val"
      ]
    },
    {
      "cell_type": "code",
      "execution_count": null,
      "metadata": {
        "id": "lZoYQjZJ5KxH"
      },
      "outputs": [],
      "source": [
        "def unit_tuning(dftrain, dfvalid, n_units= [16, 32, 64, 128, 256, 512], n_epoch=100000,\n",
        "                patience=50, valid_criterion=\"valid_cost\", lr=0.0075, seed=42, print_cost = False, early_stopping = False):\n",
        "    \"\"\"\n",
        "    Merupakan fungsi untuk melakukan hyperparameter tuning pada jumlah unit pada hidden layer yang ke-1,\n",
        "    arsitektur yang dipakai adalah model dengan 2 layer\n",
        "    \"\"\"\n",
        "    best_units = n_units[0] # inisialisasi unit dengan performansi terbaik\n",
        "    best_params = {} # dictionary untuk menyimpan parameter terbaik\n",
        "    best_cost = 9999 # inisialisasi cost terbaik\n",
        "    all_costs = [] # list untuk menyimpan semua record cost\n",
        "    record = {} # dictionary untuk menyimpan performansi pada setiap unit\n",
        "    best_f1 = 0.0 # inisialisasi f1-score terbaik\n",
        "    record_best = {} # dictionary untuk menyimpan data terbaik dan keseluruhan\n",
        "    criterion_rec = [] # list untuk menyimpan record performansi pada data validasi\n",
        "    all_params = {} # list untuk menyimpan semua parameter\n",
        "    \n",
        "    for i, unit in enumerate(n_units):\n",
        "        train_x, train_y, n, m = convert_to_tensor(dftrain)\n",
        "        layers_dims = [n, unit, 1]\n",
        "\n",
        "        valid_x, valid_y, n, m = convert_to_tensor(dfvalid)\n",
        "\n",
        "        set_seed(seed)\n",
        "        parameters, costs, cost_val, stop, f1_val, record_val = L_layer_model(train_x, train_y, valid_x, valid_y, layers_dims, \n",
        "                                                learning_rate=lr, num_iterations = n_epoch, print_cost = print_cost,\n",
        "                                                seed=seed, patience=patience, valid_criterion=valid_criterion, early_stopping= early_stopping)\n",
        "        set_seed(seed)\n",
        "        \n",
        "        record[unit] = {}\n",
        "        record[unit][\"f1\"] = f1_val \n",
        "        record[unit][\"val_cost\"] = cost_val.tolist()\n",
        "        record[unit][\"jumlah_epoch\"] = stop\n",
        "        \n",
        "        if valid_criterion == \"valid_cost\":\n",
        "            if cost_val < best_cost:\n",
        "                best_units = unit\n",
        "                best_params = parameters\n",
        "                best_cost = cost_val\n",
        "        elif valid_criterion == \"f1\":\n",
        "            if f1_val > best_f1:\n",
        "                best_f1 = f1_val\n",
        "                best_units = unit\n",
        "                best_params = parameters\n",
        "        \n",
        "        all_costs.append(costs)\n",
        "        all_params[unit] = parameters    \n",
        "        criterion_rec.append(record_val)\n",
        "\n",
        "    record_best[\"all_costs\"] = all_costs\n",
        "    record_best[\"best_params\"] = best_params\n",
        "    record_best[\"best_unit\"] = best_units\n",
        "    record_best[\"all_unit\"] = n_units\n",
        "    record_best[\"all_val_rec\"] = criterion_rec\n",
        "    record_best[\"all_params\"] = all_params\n",
        "\n",
        "    return record, record_best"
      ]
    },
    {
      "cell_type": "markdown",
      "metadata": {
        "id": "Z-pV8RlK_u8u"
      },
      "source": [
        "## Hyperparameter Tuning"
      ]
    },
    {
      "cell_type": "code",
      "execution_count": null,
      "metadata": {
        "id": "B-sj7larPYEk",
        "outputId": "8566b846-29fd-4c3b-db8b-55ffaff7de00",
        "colab": {
          "base_uri": "https://localhost:8080/"
        }
      },
      "outputs": [
        {
          "output_type": "stream",
          "name": "stderr",
          "text": [
            "100%|██████████| 1000/1000 [18:11<00:00,  1.09s/it]\n"
          ]
        },
        {
          "output_type": "stream",
          "name": "stdout",
          "text": [
            "\n",
            "Training cost after iteration 1000 and stop training after 1000: 0.6085968606146541\n"
          ]
        },
        {
          "output_type": "stream",
          "name": "stderr",
          "text": [
            "100%|██████████| 1000/1000 [18:00<00:00,  1.08s/it]\n"
          ]
        },
        {
          "output_type": "stream",
          "name": "stdout",
          "text": [
            "\n",
            "Training cost after iteration 1000 and stop training after 1000: 0.6085928296063807\n"
          ]
        },
        {
          "output_type": "stream",
          "name": "stderr",
          "text": [
            "100%|██████████| 1000/1000 [17:50<00:00,  1.07s/it]\n"
          ]
        },
        {
          "output_type": "stream",
          "name": "stdout",
          "text": [
            "\n",
            "Training cost after iteration 1000 and stop training after 1000: 0.6085963662973097\n"
          ]
        },
        {
          "output_type": "stream",
          "name": "stderr",
          "text": [
            "100%|██████████| 1000/1000 [18:11<00:00,  1.09s/it]\n"
          ]
        },
        {
          "output_type": "stream",
          "name": "stdout",
          "text": [
            "\n",
            "Training cost after iteration 1000 and stop training after 1000: 0.6085963002443833\n"
          ]
        }
      ],
      "source": [
        "hstr, record_best = unit_tuning(dftrain, dfvalid, n_units= [2, 3, 4, 5], \n",
        "                                n_epoch=1000, lr=0.0007, seed=42, print_cost=False, \n",
        "                                valid_criterion=\"valid_cost\", early_stopping=True, patience=100)"
      ]
    },
    {
      "cell_type": "markdown",
      "metadata": {
        "id": "11yld8uI_2FO"
      },
      "source": [
        "## Evaluasi Performansi"
      ]
    },
    {
      "cell_type": "code",
      "execution_count": null,
      "metadata": {
        "id": "LvBjLnmAPYEm"
      },
      "outputs": [],
      "source": [
        "def serialization(record_bes, step=1):\n",
        "    \"\"\"\n",
        "    Fungsi untuk mengembalikan mengonversi data yang bertipe tensor ke tipe asal (float)\n",
        "    \"\"\"\n",
        "    record_best = deepcopy(record_bes)\n",
        "    for k, _ in record_best[\"best_params\"].items():\n",
        "        record_best[\"best_params\"][k] = record_best[\"best_params\"][k].tolist()\n",
        "    \n",
        "    cost_val = []\n",
        "    f1_val = []\n",
        "    train_eval = []\n",
        "    \n",
        "    for i,_ in enumerate(record_best[\"all_val_rec\"]):\n",
        "        record_best[\"all_val_rec\"][i][\"cost\"] = [ x.tolist() for x in record_best[\"all_val_rec\"][i][\"cost\"]]\n",
        "        df = {\"epoch\": range(1, len(record_best[\"all_val_rec\"][i][\"cost\"])+1, step), \n",
        "              \"cost\": [record_best[\"all_val_rec\"][i][\"cost\"][x] for x in range(0, len(record_best[\"all_val_rec\"][i][\"cost\"]), step)]}\n",
        "        cost_val.append(df)\n",
        "        \n",
        "        record_best[\"all_val_rec\"][i][\"f1\"] = [ x.tolist() for x in record_best[\"all_val_rec\"][i][\"f1\"]]\n",
        "        df = {\"epoch\": range(1, len(record_best[\"all_val_rec\"][i][\"f1\"])+1, step), \n",
        "              \"f1\": [record_best[\"all_val_rec\"][i][\"f1\"][x] for x in range(0, len(record_best[\"all_val_rec\"][i][\"f1\"]), step)]}\n",
        "        f1_val.append(df)\n",
        "        \n",
        "        record_best[\"all_costs\"][i] = [ x.tolist() for x in record_best[\"all_costs\"][i]]\n",
        "        df = {\"epoch\": range(1, len(record_best[\"all_costs\"][i])+1, step), \n",
        "              \"performansi\": [record_best[\"all_costs\"][i][x] for x in range(0, len(record_best[\"all_costs\"][i]), step)]}\n",
        "        \n",
        "        train_eval.append(record_best[\"all_costs\"][i])\n",
        "    \n",
        "    \n",
        "    \n",
        "    return record_best, cost_val, f1_val, train_eval"
      ]
    },
    {
      "cell_type": "code",
      "execution_count": null,
      "metadata": {
        "id": "C3LJIZrsPYEm"
      },
      "outputs": [],
      "source": [
        "record_, cost_val, f1_val, train_eval = serialization(record_best)"
      ]
    },
    {
      "cell_type": "code",
      "execution_count": null,
      "metadata": {
        "id": "R56BvQ4MPYEn"
      },
      "outputs": [],
      "source": [
        "# menyimpan hasil evaluasi performansi ke dalam json\n",
        "#with open(\"eval.json\", \"w\") as outfile:\n",
        "#    json.dump(hstr, outfile)"
      ]
    },
    {
      "cell_type": "code",
      "execution_count": null,
      "metadata": {
        "id": "m-pVK6MkPYEo"
      },
      "outputs": [],
      "source": [
        "# menyimpan record dari parameter terbaik ke json\n",
        "#with open(\"record_best.json\", \"w\") as outfile:\n",
        "#    json.dump(record_, outfile)"
      ]
    },
    {
      "cell_type": "code",
      "execution_count": null,
      "metadata": {
        "id": "WDTfkwTkPYEo"
      },
      "outputs": [],
      "source": [
        "def evalplot(record, judul, xlab=\"epoch\", ylab=\"cost\", units=[1, 2, 3, 4]):\n",
        "    f, axes = plt.subplots(2, 2, figsize=(20,7), gridspec_kw={'wspace': 0.4,'hspace': 0.4})\n",
        "    f.suptitle(judul)\n",
        "    \n",
        "    for ax in axes.flat:\n",
        "        ax.set(xlabel=\"epoch\", ylabel=ylab)\n",
        "    \n",
        "    for i in range(len(units)):\n",
        "        if i < 2:\n",
        "            axes[0][i].plot(record[i][xlab], record[i][ylab])\n",
        "            axes[0][i].set_title(\"Jumlah unit = \" + str(units[i]))\n",
        "            #plt.show()\n",
        "        else:\n",
        "            axes[1][i%2].plot(record[i][xlab], record[i][ylab])\n",
        "            axes[1][i%2].set_title(\"Jumlah unit = \" + str(units[i]))"
      ]
    },
    {
      "cell_type": "code",
      "execution_count": null,
      "metadata": {
        "id": "SYTwC3rFPYEo",
        "outputId": "b5a57427-da4b-4443-fd34-7ae48acfe70e",
        "colab": {
          "base_uri": "https://localhost:8080/",
          "height": 467
        }
      },
      "outputs": [
        {
          "output_type": "display_data",
          "data": {
            "image/png": "[encoded data removed]",
            "text/plain": [
              "<Figure size 1440x504 with 4 Axes>"
            ]
          },
          "metadata": {
            "needs_background": "light"
          }
        }
      ],
      "source": [
        "evalplot(f1_val, \"Macro F-1 Data Validasi selama Training\", xlab=\"epoch\", ylab=\"f1\", units=[2, 3, 4, 5])"
      ]
    },
    {
      "cell_type": "code",
      "execution_count": null,
      "metadata": {
        "id": "UU8EmPS2PYEo",
        "outputId": "b39b613d-5b75-4f96-de0d-893d782cb8ca",
        "colab": {
          "base_uri": "https://localhost:8080/",
          "height": 467
        }
      },
      "outputs": [
        {
          "output_type": "display_data",
          "data": {
            "image/png": "[encoded data removed]",
            "text/plain": [
              "<Figure size 1440x504 with 4 Axes>"
            ]
          },
          "metadata": {
            "needs_background": "light"
          }
        }
      ],
      "source": [
        "evalplot(cost_val, \"Cost Data Validasi selama Training\", xlab=\"epoch\", ylab=\"cost\", units=[2, 3, 4, 5])"
      ]
    },
    {
      "cell_type": "code",
      "execution_count": null,
      "metadata": {
        "scrolled": false,
        "id": "yam5unr7PYEp"
      },
      "outputs": [],
      "source": [
        "train_x, train_y, n, m = convert_to_tensor(dftrain)\n",
        "for i in [2, 3, 4, 5]:\n",
        "    _, f1_train, cost_train = predict(train_x, train_y, record_best[\"all_params\"][i])\n",
        "    hstr[i][\"f1_training\"] = f1_train\n",
        "    hstr[i][\"cost_training\"] = cost_train.tolist()"
      ]
    },
    {
      "cell_type": "code",
      "execution_count": null,
      "metadata": {
        "colab": {
          "base_uri": "https://localhost:8080/",
          "height": 206
        },
        "id": "4352Xg74P82j",
        "outputId": "a6079808-74c2-412a-a2ef-90d3b50d854f",
        "scrolled": true
      },
      "outputs": [
        {
          "output_type": "execute_result",
          "data": {
            "text/html": [
              "\n",
              "  <div id=\"df-72ab3946-150a-4d78-b3cc-043b87241f2a\">\n",
              "    <div class=\"colab-df-container\">\n",
              "      <div>\n",
              "<style scoped>\n",
              "    .dataframe tbody tr th:only-of-type {\n",
              "        vertical-align: middle;\n",
              "    }\n",
              "\n",
              "    .dataframe tbody tr th {\n",
              "        vertical-align: top;\n",
              "    }\n",
              "\n",
              "    .dataframe thead th {\n",
              "        text-align: right;\n",
              "    }\n",
              "</style>\n",
              "<table border=\"1\" class=\"dataframe\">\n",
              "  <thead>\n",
              "    <tr style=\"text-align: right;\">\n",
              "      <th></th>\n",
              "      <th>2</th>\n",
              "      <th>3</th>\n",
              "      <th>4</th>\n",
              "      <th>5</th>\n",
              "    </tr>\n",
              "  </thead>\n",
              "  <tbody>\n",
              "    <tr>\n",
              "      <th>f1</th>\n",
              "      <td>0.467636</td>\n",
              "      <td>0.467636</td>\n",
              "      <td>0.467636</td>\n",
              "      <td>0.467636</td>\n",
              "    </tr>\n",
              "    <tr>\n",
              "      <th>val_cost</th>\n",
              "      <td>0.608529</td>\n",
              "      <td>0.608525</td>\n",
              "      <td>0.608528</td>\n",
              "      <td>0.608528</td>\n",
              "    </tr>\n",
              "    <tr>\n",
              "      <th>jumlah_epoch</th>\n",
              "      <td>1000.000000</td>\n",
              "      <td>1000.000000</td>\n",
              "      <td>1000.000000</td>\n",
              "      <td>1000.000000</td>\n",
              "    </tr>\n",
              "    <tr>\n",
              "      <th>f1_training</th>\n",
              "      <td>0.467639</td>\n",
              "      <td>0.467639</td>\n",
              "      <td>0.467639</td>\n",
              "      <td>0.467639</td>\n",
              "    </tr>\n",
              "    <tr>\n",
              "      <th>cost_training</th>\n",
              "      <td>0.608526</td>\n",
              "      <td>0.608522</td>\n",
              "      <td>0.608526</td>\n",
              "      <td>0.608526</td>\n",
              "    </tr>\n",
              "  </tbody>\n",
              "</table>\n",
              "</div>\n",
              "      <button class=\"colab-df-convert\" onclick=\"convertToInteractive('df-72ab3946-150a-4d78-b3cc-043b87241f2a')\"\n",
              "              title=\"Convert this dataframe to an interactive table.\"\n",
              "              style=\"display:none;\">\n",
              "        \n",
              "  <svg xmlns=\"http://www.w3.org/2000/svg\" height=\"24px\"viewBox=\"0 0 24 24\"\n",
              "       width=\"24px\">\n",
              "    <path d=\"M0 0h24v24H0V0z\" fill=\"none\"/>\n",
              "    <path d=\"M18.56 5.44l.94 2.06.94-2.06 2.06-.94-2.06-.94-.94-2.06-.94 2.06-2.06.94zm-11 1L8.5 8.5l.94-2.06 2.06-.94-2.06-.94L8.5 2.5l-.94 2.06-2.06.94zm10 10l.94 2.06.94-2.06 2.06-.94-2.06-.94-.94-2.06-.94 2.06-2.06.94z\"/><path d=\"M17.41 7.96l-1.37-1.37c-.4-.4-.92-.59-1.43-.59-.52 0-1.04.2-1.43.59L10.3 9.45l-7.72 7.72c-.78.78-.78 2.05 0 2.83L4 21.41c.39.39.9.59 1.41.59.51 0 1.02-.2 1.41-.59l7.78-7.78 2.81-2.81c.8-.78.8-2.07 0-2.86zM5.41 20L4 18.59l7.72-7.72 1.47 1.35L5.41 20z\"/>\n",
              "  </svg>\n",
              "      </button>\n",
              "      \n",
              "  <style>\n",
              "    .colab-df-container {\n",
              "      display:flex;\n",
              "      flex-wrap:wrap;\n",
              "      gap: 12px;\n",
              "    }\n",
              "\n",
              "    .colab-df-convert {\n",
              "      background-color: #E8F0FE;\n",
              "      border: none;\n",
              "      border-radius: 50%;\n",
              "      cursor: pointer;\n",
              "      display: none;\n",
              "      fill: #1967D2;\n",
              "      height: 32px;\n",
              "      padding: 0 0 0 0;\n",
              "      width: 32px;\n",
              "    }\n",
              "\n",
              "    .colab-df-convert:hover {\n",
              "      background-color: #E2EBFA;\n",
              "      box-shadow: 0px 1px 2px rgba(60, 64, 67, 0.3), 0px 1px 3px 1px rgba(60, 64, 67, 0.15);\n",
              "      fill: #174EA6;\n",
              "    }\n",
              "\n",
              "    [theme=dark] .colab-df-convert {\n",
              "      background-color: #3B4455;\n",
              "      fill: #D2E3FC;\n",
              "    }\n",
              "\n",
              "    [theme=dark] .colab-df-convert:hover {\n",
              "      background-color: #434B5C;\n",
              "      box-shadow: 0px 1px 3px 1px rgba(0, 0, 0, 0.15);\n",
              "      filter: drop-shadow(0px 1px 2px rgba(0, 0, 0, 0.3));\n",
              "      fill: #FFFFFF;\n",
              "    }\n",
              "  </style>\n",
              "\n",
              "      <script>\n",
              "        const buttonEl =\n",
              "          document.querySelector('#df-72ab3946-150a-4d78-b3cc-043b87241f2a button.colab-df-convert');\n",
              "        buttonEl.style.display =\n",
              "          google.colab.kernel.accessAllowed ? 'block' : 'none';\n",
              "\n",
              "        async function convertToInteractive(key) {\n",
              "          const element = document.querySelector('#df-72ab3946-150a-4d78-b3cc-043b87241f2a');\n",
              "          const dataTable =\n",
              "            await google.colab.kernel.invokeFunction('convertToInteractive',\n",
              "                                                     [key], {});\n",
              "          if (!dataTable) return;\n",
              "\n",
              "          const docLinkHtml = 'Like what you see? Visit the ' +\n",
              "            '<a target=\"_blank\" href=https://colab.research.google.com/notebooks/data_table.ipynb>data table notebook</a>'\n",
              "            + ' to learn more about interactive tables.';\n",
              "          element.innerHTML = '';\n",
              "          dataTable['output_type'] = 'display_data';\n",
              "          await google.colab.output.renderOutput(dataTable, element);\n",
              "          const docLink = document.createElement('div');\n",
              "          docLink.innerHTML = docLinkHtml;\n",
              "          element.appendChild(docLink);\n",
              "        }\n",
              "      </script>\n",
              "    </div>\n",
              "  </div>\n",
              "  "
            ],
            "text/plain": [
              "                         2            3            4            5\n",
              "f1                0.467636     0.467636     0.467636     0.467636\n",
              "val_cost          0.608529     0.608525     0.608528     0.608528\n",
              "jumlah_epoch   1000.000000  1000.000000  1000.000000  1000.000000\n",
              "f1_training       0.467639     0.467639     0.467639     0.467639\n",
              "cost_training     0.608526     0.608522     0.608526     0.608526"
            ]
          },
          "metadata": {},
          "execution_count": 38
        }
      ],
      "source": [
        "# performansi pada data validasi\n",
        "pd.DataFrame(hstr)"
      ]
    },
    {
      "cell_type": "markdown",
      "metadata": {
        "id": "RQ4bPi7GPYEp"
      },
      "source": [
        "## Evaluasi pada Data Testing"
      ]
    },
    {
      "cell_type": "code",
      "execution_count": null,
      "metadata": {
        "id": "11r63ijgPYEq"
      },
      "outputs": [],
      "source": [
        "test_x, test_y, n, m = convert_to_tensor(dftest)"
      ]
    },
    {
      "cell_type": "code",
      "execution_count": null,
      "metadata": {
        "id": "Iq-fK3rSPYEq",
        "outputId": "b3336334-b8ea-4d6d-b644-d33b6add8fc4",
        "colab": {
          "base_uri": "https://localhost:8080/"
        }
      },
      "outputs": [
        {
          "output_type": "stream",
          "name": "stdout",
          "text": [
            "Macro Avg F-1 Score data test pada unit 2 0.46722659002203165\n"
          ]
        }
      ],
      "source": [
        "_, f1_test, _ = predict(test_x, test_y, record_best[\"all_params\"][2])\n",
        "print(\"Macro Avg F-1 Score data test pada unit 2\", f1_test)"
      ]
    },
    {
      "cell_type": "code",
      "execution_count": null,
      "metadata": {
        "id": "VG0IJJ4xPYEq",
        "outputId": "8501118b-e0ce-4936-e21e-9a1fadd288dc",
        "colab": {
          "base_uri": "https://localhost:8080/"
        }
      },
      "outputs": [
        {
          "output_type": "stream",
          "name": "stdout",
          "text": [
            "Macro Avg F-1 Score data test pada unit 4 0.46722659002203165\n"
          ]
        }
      ],
      "source": [
        "_, f1_test, _ = predict(test_x, test_y, record_best[\"all_params\"][4])\n",
        "print(\"Macro Avg F-1 Score data test pada unit 4\", f1_test)"
      ]
    },
    {
      "cell_type": "code",
      "execution_count": null,
      "metadata": {
        "id": "BgxE5Jo8PYEq",
        "outputId": "45e2e2cd-7f93-45b2-a012-f13906761e68",
        "colab": {
          "base_uri": "https://localhost:8080/"
        }
      },
      "outputs": [
        {
          "output_type": "stream",
          "name": "stdout",
          "text": [
            "Macro Avg F-1 Score data test pada unit 3 0.46722659002203165\n"
          ]
        }
      ],
      "source": [
        "#for k, _ in record_best[\"best_params\"].items():\n",
        "#    record_best[\"best_params\"][k] = torch.tensor(record_best[\"best_params\"][k], dtype=torch.float64)\n",
        "_, f1_test, _ = predict(test_x, test_y, record_best[\"best_params\"])\n",
        "print(\"Macro Avg F-1 Score data test pada unit 3\", f1_test)"
      ]
    },
    {
      "cell_type": "code",
      "execution_count": null,
      "metadata": {
        "scrolled": true,
        "id": "yBe9JFLYPYEr",
        "outputId": "a73014cc-8d09-484a-fd62-197b03e86440",
        "colab": {
          "base_uri": "https://localhost:8080/"
        }
      },
      "outputs": [
        {
          "output_type": "stream",
          "name": "stdout",
          "text": [
            "Macro Avg F-1 Score data test pada unit 5 0.46722659002203165\n"
          ]
        }
      ],
      "source": [
        "_, f1_test, _ = predict(test_x, test_y, record_best[\"all_params\"][5])\n",
        "print(\"Macro Avg F-1 Score data test pada unit 5\", f1_test)"
      ]
    },
    {
      "cell_type": "markdown",
      "metadata": {
        "id": "hBQPS0pJPYEr"
      },
      "source": [
        "# Experiment II: Optimizing and Regularizing Neural Network"
      ]
    },
    {
      "cell_type": "markdown",
      "metadata": {
        "id": "oXb5n-5iPYEr"
      },
      "source": [
        "## He Initialization"
      ]
    },
    {
      "cell_type": "code",
      "execution_count": null,
      "metadata": {
        "id": "OqOvEB3SPYEs"
      },
      "outputs": [],
      "source": [
        "def initialize_parameters_deep_he(layer_dims, dev=None, seed=42):\n",
        "    \"\"\"\n",
        "    Argumen:\n",
        "    layer_dims -- struktur data list pada python yang mengandung dimensi dari setiap layer pada neural network yang dibangun\n",
        "    \n",
        "    Return:\n",
        "    parameters -- struktur data dictionary pada python yang mengandung parameter \"W1\", \"b1\", ..., \"WL\", \"bL\":\n",
        "                    Wl -- matriks dari bobot dengan ukuran (layer_dims[l], layer_dims[l-1])\n",
        "                    bl -- vektor dari nilai bias dengan ukuran (layer_dims[l], 1)\n",
        "    \"\"\"\n",
        "    if torch.cuda.is_available():\n",
        "        dev = torch.device(\"cuda\")\n",
        "\n",
        "    set_seed(seed)\n",
        "    parameters = {}\n",
        "    L = len(layer_dims) # jumlah layer pada neural network\n",
        "\n",
        "    for l in range(1, L):\n",
        "        if torch.cuda.is_available():\n",
        "          parameters[\"W\" + str(l)] = torch.randn(layer_dims[l], layer_dims[l-1], dtype=torch.float64, device=torch.device(\"cuda\"))*torch.sqrt(torch.Tensor([2.0/layer_dims[l-1]])).cuda()\n",
        "          parameters[\"b\" + str(l)] = torch.zeros((layer_dims[l], 1), dtype=torch.float64, device=torch.device(\"cuda\"))\n",
        "        else:\n",
        "          parameters[\"W\" + str(l)] = torch.randn(layer_dims[l], layer_dims[l-1], dtype=torch.float64)*torch.sqrt(torch.Tensor([2.0/layer_dims[l-1]], device=dev))\n",
        "          parameters[\"b\" + str(l)] = torch.zeros((layer_dims[l], 1), dtype=torch.float64)\n",
        "\n",
        "        assert(tuple(parameters['W' + str(l)].size()) == (layer_dims[l], layer_dims[l - 1]))\n",
        "        assert(tuple(parameters['b' + str(l)].size()) == (layer_dims[l], 1))\n",
        "\n",
        "        \n",
        "    return parameters"
      ]
    },
    {
      "cell_type": "markdown",
      "metadata": {
        "id": "6syUWgKjPYEs"
      },
      "source": [
        "## Random Mini-batch"
      ]
    },
    {
      "cell_type": "code",
      "execution_count": null,
      "metadata": {
        "id": "XvVVhFZpPYEs"
      },
      "outputs": [],
      "source": [
        "def random_mini_batches(X_dat, Y_dat, mini_batch_size = 64, seed = 42):\n",
        "  \n",
        "    X = X_dat.detach().clone().cpu().numpy()\n",
        "    Y = Y_dat.detach().clone().cpu().numpy()\n",
        "    \n",
        "    \n",
        "    set_seed(seed)            # To make your \"random\" minibatches the same as ours\n",
        "    m = X.shape[1]                  # number of training examples\n",
        "    mini_batches = []\n",
        "        \n",
        "    # Step 1: Shuffle (X, Y)\n",
        "    permutation = list(np.random.permutation(m))\n",
        "    shuffled_X = X[:, permutation]\n",
        "    shuffled_Y = Y[:, permutation].reshape((1, m))\n",
        "    \n",
        "    inc = mini_batch_size\n",
        "\n",
        "    # Step 2 - Partition (shuffled_X, shuffled_Y).\n",
        "    # Cases with a complete mini batch size only i.e each of 64 examples.\n",
        "    num_complete_minibatches = math.floor(m / mini_batch_size) # number of mini batches of size mini_batch_size in your partitionning\n",
        "    for k in range(0, num_complete_minibatches):\n",
        "        mini_batch_X = shuffled_X[:,k*inc:(k+1)*inc]\n",
        "        mini_batch_Y = shuffled_Y[:,k*inc:(k+1)*inc]\n",
        "\n",
        "        if torch.cuda.is_available():\n",
        "            mini_batch = (torch.from_numpy(mini_batch_X.astype(np.float64)).to(torch.device(\"cuda\")), \n",
        "                          torch.from_numpy(mini_batch_Y.astype(np.float64)).to(torch.device(\"cuda\")))\n",
        "        else:\n",
        "            mini_batch = (torch.from_numpy(mini_batch_X.astype(np.float64)), torch.from_numpy(mini_batch_Y.astype(np.float64)))\n",
        "        \n",
        "        mini_batches.append(mini_batch)\n",
        "    \n",
        "    # For handling the end case (last mini-batch < mini_batch_size i.e less than 64)\n",
        "    if m % mini_batch_size != 0:\n",
        "        mini_batch_X = shuffled_X[:,num_complete_minibatches*inc:m]\n",
        "        mini_batch_Y = shuffled_Y[:,num_complete_minibatches*inc:m]\n",
        "        \n",
        "        if torch.cuda.is_available():\n",
        "            mini_batch = (torch.from_numpy(mini_batch_X.astype(np.float64)).to(torch.device(\"cuda\")), \n",
        "                          torch.from_numpy(mini_batch_Y.astype(np.float64)).to(torch.device(\"cuda\")))\n",
        "        else:\n",
        "            mini_batch = (torch.from_numpy(mini_batch_X.astype(np.float64)), torch.from_numpy(mini_batch_Y.astype(np.float64)))\n",
        "        \n",
        "        mini_batches.append(mini_batch)\n",
        "    \n",
        "    return mini_batches"
      ]
    },
    {
      "cell_type": "markdown",
      "metadata": {
        "id": "fY87lZe_PYEt"
      },
      "source": [
        "## Adaptive Moment Estimation (ADAM)"
      ]
    },
    {
      "cell_type": "code",
      "execution_count": null,
      "metadata": {
        "id": "hShAbzNaPYEt"
      },
      "outputs": [],
      "source": [
        "def initialize_adam(parameters, dev=None) :\n",
        "\n",
        "    if torch.cuda.is_available():\n",
        "        dev = torch.device(\"cuda\")\n",
        "        \n",
        "    L = len(parameters) // 2 # number of layers in the neural networks\n",
        "    v = {}\n",
        "    s = {}\n",
        "    \n",
        "    # Initialize v, s. Input: \"parameters\". Outputs: \"v, s\".\n",
        "    for l in range(1, L + 1):\n",
        "        v[\"dW\" + str(l)] = torch.zeros((tuple(parameters['W' + str(l)].size())[0], tuple(parameters['W' + str(l)].size())[1]), device=dev)\n",
        "        v[\"db\" + str(l)] = torch.zeros((tuple(parameters['b' + str(l)].size())[0], tuple(parameters['b' + str(l)].size())[1]), device=dev)\n",
        "        s[\"dW\" + str(l)] = torch.zeros((tuple(parameters['W' + str(l)].size())[0], tuple(parameters['W' + str(l)].size())[1]), device=dev)\n",
        "        s[\"db\" + str(l)] = torch.zeros((tuple(parameters['b' + str(l)].size())[0], tuple(parameters['b' + str(l)].size())[1]), device=dev)\n",
        "    \n",
        "    return v, s"
      ]
    },
    {
      "cell_type": "code",
      "execution_count": null,
      "metadata": {
        "id": "KfsLkkvNPYEt"
      },
      "outputs": [],
      "source": [
        "def update_parameters_with_adam(param, grads, v, s, t, learning_rate = 0.01,\n",
        "                                beta1 = 0.9, beta2 = 0.999,  epsilon = 1e-8):\n",
        "    \n",
        "    parameters = deepcopy(param)\n",
        "    L = len(parameters) // 2                 # number of layers in the neural networks\n",
        "    v_corrected = {}                         # Initializing first moment estimate, python dictionary\n",
        "    s_corrected = {}                         # Initializing second moment estimate, python dictionary\n",
        "    \n",
        "    # Perform Adam update on all parameters\n",
        "    for l in range(1, L + 1):\n",
        "        # Moving average of the gradients. Inputs: \"v, grads, beta1\". Output: \"v\".\n",
        "        v[\"dW\" + str(l)] = beta1*v[\"dW\" + str(l)] + (1-beta1)*grads['dW' + str(l)]\n",
        "        v[\"db\" + str(l)] = beta1*v[\"db\" + str(l)] + (1-beta1)*grads['db' + str(l)]\n",
        "\n",
        "        # Compute bias-corrected first moment estimate. Inputs: \"v, beta1, t\". Output: \"v_corrected\".\n",
        "        v_corrected[\"dW\" + str(l)] = v[\"dW\" + str(l)]/(1-torch.pow(torch.tensor(beta1), t))\n",
        "        v_corrected[\"db\" + str(l)] = v[\"db\" + str(l)]/(1-torch.pow(torch.tensor(beta1), t))\n",
        "\n",
        "        # Moving average of the squared gradients. Inputs: \"s, grads, beta2\". Output: \"s\".\n",
        "        s[\"dW\" + str(l)] = beta2*s[\"dW\" + str(l)] + (1-beta2)*torch.square(grads['dW' + str(l)])\n",
        "        s[\"db\" + str(l)] = beta2*s[\"db\" + str(l)] + (1-beta2)*torch.square(grads['db' + str(l)])\n",
        "\n",
        "        # Compute bias-corrected second raw moment estimate. Inputs: \"s, beta2, t\". Output: \"s_corrected\".\n",
        "        s_corrected[\"dW\" + str(l)] = s[\"dW\" + str(l)]/(1-torch.pow(torch.tensor(beta2), t))\n",
        "        s_corrected[\"db\" + str(l)] = s[\"db\" + str(l)]/(1-torch.pow(torch.tensor(beta2), t))\n",
        "\n",
        "        # Update parameters. Inputs: \"parameters, learning_rate, v_corrected, s_corrected, epsilon\". Output: \"parameters\".\n",
        "        parameters[\"W\" + str(l)] = parameters[\"W\" + str(l)] - learning_rate*(v_corrected[\"dW\" + str(l)]/(torch.sqrt(s_corrected[\"dW\" + str(l)])+torch.tensor(epsilon)))\n",
        "        parameters[\"b\" + str(l)] = parameters[\"b\" + str(l)] - learning_rate*(v_corrected[\"db\" + str(l)]/(torch.sqrt(s_corrected[\"db\" + str(l)])+torch.tensor(epsilon)))\n",
        "\n",
        "\n",
        "    return parameters, v, s, v_corrected, s_corrected"
      ]
    },
    {
      "cell_type": "code",
      "execution_count": null,
      "metadata": {
        "id": "q2Y6mFfiPYEu"
      },
      "outputs": [],
      "source": [
        "def model(X, Y, valid_x, valid_y, layers_dims, learning_rate = 0.0007, mini_batch_size=1024, num_epoch = 3000, \n",
        "          print_cost=False, patience=50, valid_criterion=\"f1\", early_stopping=True, \n",
        "          beta1 = 0.9, beta2 = 0.999,  epsilon = 1e-8, seed=42):\n",
        "\n",
        "    set_seed(seed) # mengeset nilai seed supaya hasilnya reproducible\n",
        "    costs = [] # merekam nilai cost pada data training\n",
        "    \n",
        "    record_val = {} # merekam nilai performansi pada data validasi\n",
        "    record_val[\"f1\"] = []\n",
        "    record_val[\"cost\"] = []\n",
        "    \n",
        "    # inisialisasi parameter.\n",
        "    parameters = initialize_parameters_deep_he(layers_dims)\n",
        "    v, s = initialize_adam(parameters)\n",
        "    best_params = parameters\n",
        "    ep = 0\n",
        "    stop = 0 # variabel untuk mengontrol early stopping\n",
        "    m = tuple(X.size())[1]\n",
        "    t = 0\n",
        "    \n",
        "    # inisialisasi jika early stopping bernilai True\n",
        "    if early_stopping:\n",
        "        if valid_criterion == \"valid_cost\":\n",
        "            _, _, best_val = predict(valid_x, valid_y, parameters)\n",
        "        elif valid_criterion == \"f1\":\n",
        "            _, best_f1, _ = predict(valid_x, valid_y, parameters)\n",
        "\n",
        "    # Perulangan (gradient descent)\n",
        "    for i in tqdm(range(1, num_epoch+1)):\n",
        "        \n",
        "        # Define the random minibatches. We increment the seed to reshuffle differently the dataset after each epoch\n",
        "        seed = seed + 1\n",
        "        minibatches = random_mini_batches(X, Y, mini_batch_size, seed)\n",
        "        cost_total = 0\n",
        "        \n",
        "        # jika performansi model memburuk selama patience iterasi, maka hentikan training\n",
        "        if stop == patience:\n",
        "            print(i)\n",
        "            break\n",
        "            \n",
        "        for minibatch in minibatches:\n",
        "\n",
        "            # Select a minibatch\n",
        "            (minibatch_X, minibatch_Y) = minibatch\n",
        "\n",
        "            # Forward propagation\n",
        "            a3, caches = L_model_forward(minibatch_X, parameters)\n",
        "\n",
        "            # Compute cost and add to the cost total\n",
        "            cost_total += compute_cost(a3, minibatch_Y)\n",
        "\n",
        "            # Backward propagation\n",
        "            grads = L_model_backward(a3, minibatch_Y, caches)\n",
        "\n",
        "            t = t + 1 # Adam counter\n",
        "            parameters, v, s, _, _ = update_parameters_with_adam(parameters, grads, v, s,\n",
        "                                                               t, learning_rate, beta1, beta2,  epsilon)\n",
        "        cost_avg = cost_total / m\n",
        "\n",
        "        ep = ep + 1\n",
        "        \n",
        "        # Menyimpan parameter terbaik berdasarkan valid_criterion\n",
        "        if early_stopping:\n",
        "            if valid_criterion == \"valid_cost\":\n",
        "                _, current_f1_val, current_val = predict(valid_x, valid_y, parameters)\n",
        "                record_val[\"cost\"].append(current_val)\n",
        "                record_val[\"f1\"].append(current_f1_val)\n",
        "                if current_val >= best_val:\n",
        "                    stop += 1\n",
        "                else:\n",
        "                    best_params = deepcopy(parameters)\n",
        "                    best_val = current_val\n",
        "                    stop = 0\n",
        "            elif valid_criterion == \"f1\":\n",
        "                _, current_f1_val, current_val = predict(valid_x, valid_y, parameters)\n",
        "                record_val[\"f1\"].append(current_f1_val)\n",
        "                record_val[\"cost\"].append(current_val)\n",
        "                if current_f1_val <= best_f1:\n",
        "                    stop += 1\n",
        "                else:\n",
        "                    best_params = deepcopy(parameters)\n",
        "                    best_f1 = current_f1_val\n",
        "                    stop = 0\n",
        "                    \n",
        "        \n",
        "        # Mencetak cost setiap 100 iterasi\n",
        "        if print_cost and i % 100 == 0:\n",
        "            print(\"\\nTraining cost after iteration {}: {}\".format(i, torch.squeeze(cost_avg)))\n",
        "        #if i % 100 == 0 or i == num_iterations:\n",
        "        costs.append(cost_avg)\n",
        "    \n",
        "    print(\"\\nTraining cost after iteration {} and stop training after {}: {}\".format(ep, ep-stop,  torch.squeeze(cost_avg)))\n",
        "    \n",
        "    # evaluasi performansi pada data validasi menggunakan parameter terbaik pada data training\n",
        "    _, f1_val, current_val = predict(valid_x, valid_y, best_params)\n",
        "    \n",
        "    return best_params, costs, current_val, ep-stop, f1_val, record_val"
      ]
    },
    {
      "cell_type": "code",
      "execution_count": null,
      "metadata": {
        "id": "eWaE8eSsPYEu"
      },
      "outputs": [],
      "source": [
        "def layer_tuning(dftrain, dfvalid, dftest, n_layer_dim=[[10, 16, 8, 1]],\n",
        "                patience=5, valid_criterion=\"f1\", lr=0.0007, \n",
        "                mini_batch_size=1024, num_epoch = 30, early_stopping=True, \n",
        "                beta1 = 0.9, beta2 = 0.999, epsilon = 1e-8,\n",
        "                seed=42, print_cost = False):\n",
        "    \"\"\"\n",
        "    Merupakan fungsi untuk melakukan hyperparameter tuning pada dimensi layer tertentu\n",
        "    \"\"\"\n",
        "    best_units = n_layer_dim[0] # inisialisasi unit dengan performansi terbaik\n",
        "    best_params = {} # dictionary untuk menyimpan parameter terbaik\n",
        "    best_cost = 9999 # inisialisasi cost terbaik\n",
        "    all_costs = [] # list untuk menyimpan semua record cost\n",
        "    record = {} # dictionary untuk menyimpan performansi pada setiap unit\n",
        "    best_f1 = 0.0 # inisialisasi f1 terbaik\n",
        "    hstr = {} # dictionary untuk menyimpan riwayat keseluruhan\n",
        "    criterion_rec = [] # list untuk menyimpan record performansi pada data validasi\n",
        "    all_params = {} # list untuk menyimpan semua parameter\n",
        "    set_seed(seed)\n",
        "    train_x, train_y, _, _ = convert_to_tensor(dftrain)\n",
        "    valid_x, valid_y, _, _ = convert_to_tensor(dfvalid)\n",
        "    test_x, test_y, _, _ = convert_to_tensor(dftest)\n",
        "    \n",
        "    \n",
        "    for i, ld in enumerate(n_layer_dim):\n",
        "\n",
        "        mulai = time.perf_counter()\n",
        "        parameters, costs, cost_val, stop, f1_val, record_val = model(train_x, train_y, valid_x, valid_y, \n",
        "                                                                       ld, learning_rate = lr, \n",
        "                                                                       mini_batch_size=mini_batch_size, \n",
        "                                                                       num_epoch=num_epoch, print_cost=print_cost, \n",
        "                                                                       patience=patience, valid_criterion=valid_criterion, \n",
        "                                                                       early_stopping=early_stopping, beta1=beta1, beta2=beta2, \n",
        "                                                                       epsilon=epsilon, seed=seed)\n",
        "        \n",
        "        berhenti = time.perf_counter()\n",
        "        durasi = (berhenti-mulai)/60\n",
        "\n",
        "        _, f1_train, cost_train = predict(train_x, train_y, parameters)\n",
        "        _, f1_test, cost_test = predict(test_x, test_y, parameters)\n",
        "\n",
        "        record[\"experimen_\"+str(i+1)] = {}\n",
        "        record[\"experimen_\"+str(i+1)][\"arsitektur\"] = '->'.join([str(ly) for ly in ld])\n",
        "        record[\"experimen_\"+str(i+1)][\"f1_training\"] = f1_train \n",
        "        record[\"experimen_\"+str(i+1)][\"f1_validasi\"] = f1_val \n",
        "        record[\"experimen_\"+str(i+1)][\"f1_testing\"] = f1_test\n",
        "        record[\"experimen_\"+str(i+1)][\"cost_training\"] = cost_train.tolist()\n",
        "        record[\"experimen_\"+str(i+1)][\"cost_validasi\"] = cost_val.tolist()\n",
        "        record[\"experimen_\"+str(i+1)][\"cost_testing\"] = cost_test.tolist()\n",
        "        record[\"experimen_\"+str(i+1)][\"jumlah_epoch\"] = stop\n",
        "        record[\"experimen_\"+str(i+1)][\"durasi_training\"] = str(f'{durasi:0.4f} menit')\n",
        "\n",
        "        if valid_criterion == \"valid_cost\":\n",
        "            if cost_val < best_cost:\n",
        "                best_units = ld\n",
        "                best_params = parameters\n",
        "                best_cost = cost_val\n",
        "        elif valid_criterion == \"f1\":\n",
        "            if f1_val > best_f1:\n",
        "                best_f1 = f1_val\n",
        "                best_units = \"experimen_\"+str(i+1)\n",
        "                best_params = parameters\n",
        "        all_costs.append(costs)\n",
        "        all_params[\"experimen_\"+str(i+1)] = parameters    \n",
        "        criterion_rec.append(record_val)\n",
        "\n",
        "    hstr[\"hasil_eksperimen\"] = deepcopy(record)\n",
        "    hstr[\"all_costs\"] = all_costs\n",
        "    hstr[\"best_params\"] = best_params\n",
        "    hstr[\"best_unit\"] = best_units\n",
        "    hstr[\"all_dims\"] = n_layer_dim\n",
        "    hstr[\"all_val_rec\"] = criterion_rec\n",
        "    hstr[\"all_params\"] = all_params\n",
        "\n",
        "    return hstr"
      ]
    },
    {
      "cell_type": "code",
      "source": [
        "def evplot(hstry, experimen=1):\n",
        "    _, c_val, a_val, t_eval = serialization(hstry)\n",
        "    name = 'experimen_'+str(experimen)+\": \"+hstry['hasil_eksperimen']['experimen_'+str(experimen)]['arsitektur']\n",
        "\n",
        "    f, axes = plt.subplots(1, 3, figsize=(20,7), gridspec_kw={'wspace': 0.4,'hspace': 0.4})\n",
        "    f.suptitle(name)\n",
        "    \n",
        "    ylab = [\"cost\", 'cost', 'f1']\n",
        "    i=0\n",
        "\n",
        "    for ax in axes.flat:\n",
        "        ax.set(xlabel=\"epoch\", ylabel=ylab[i])\n",
        "        i+=1\n",
        "    \n",
        "    axes[0].plot([x for x in range(len(t_eval[int(experimen-1)]))], t_eval[int(experimen-1)])\n",
        "    axes[0].set_title(\"Training Cost\")\n",
        "\n",
        "    axes[1].plot(c_val[0][\"epoch\"], c_val[0][\"cost\"])\n",
        "    axes[1].set_title(\"Validation Cost\")\n",
        "\n",
        "    axes[2].plot(a_val[0][\"epoch\"], a_val[0][\"f1\"])\n",
        "    axes[2].set_title(\"Validation f-1 score\")\n"
      ],
      "metadata": {
        "id": "iLxL_zayZUi6"
      },
      "execution_count": null,
      "outputs": []
    },
    {
      "cell_type": "markdown",
      "source": [
        "## Hyperparameter Tuning"
      ],
      "metadata": {
        "id": "Au2PRP3RdBdG"
      }
    },
    {
      "cell_type": "code",
      "source": [
        "hist = layer_tuning(dftrain, dfvalid, dftest, n_layer_dim=[[10, 128, 64, 32, 3, 1], \n",
        "                                                   [10, 512, 256, 128, 64, 32, 3, 1], \n",
        "                                                   [10, 1024, 128, 512, 32, 3, 1], \n",
        "                                                   [10, 81, 27, 3, 1]],\n",
        "                patience=100, valid_criterion=\"valid_cost\", lr=0.0007, \n",
        "                mini_batch_size=2048, num_epoch = 1000, early_stopping=True, \n",
        "                beta1 = 0.9, beta2 = 0.999, epsilon = 1e-8,\n",
        "                seed=42, print_cost = False)"
      ],
      "metadata": {
        "colab": {
          "base_uri": "https://localhost:8080/"
        },
        "id": "LRj0rrKZVCAc",
        "outputId": "e1e5700a-0c45-4594-db37-7c93b37899c8"
      },
      "execution_count": null,
      "outputs": [
        {
          "output_type": "stream",
          "name": "stderr",
          "text": [
            " 31%|███       | 306/1000 [09:18<21:07,  1.83s/it]\n"
          ]
        },
        {
          "output_type": "stream",
          "name": "stdout",
          "text": [
            "307\n",
            "\n",
            "Training cost after iteration 306 and stop training after 206: 9.642456452113329e-05\n"
          ]
        },
        {
          "output_type": "stream",
          "name": "stderr",
          "text": [
            " 20%|█▉        | 195/1000 [06:32<27:00,  2.01s/it]\n"
          ]
        },
        {
          "output_type": "stream",
          "name": "stdout",
          "text": [
            "196\n",
            "\n",
            "Training cost after iteration 195 and stop training after 95: 0.00018264612702231892\n"
          ]
        },
        {
          "output_type": "stream",
          "name": "stderr",
          "text": [
            " 15%|█▍        | 147/1000 [04:47<27:47,  1.96s/it]\n"
          ]
        },
        {
          "output_type": "stream",
          "name": "stdout",
          "text": [
            "148\n",
            "\n",
            "Training cost after iteration 147 and stop training after 47: 9.389461745635157e-05\n"
          ]
        },
        {
          "output_type": "stream",
          "name": "stderr",
          "text": [
            " 78%|███████▊  | 775/1000 [21:46<06:19,  1.69s/it]\n"
          ]
        },
        {
          "output_type": "stream",
          "name": "stdout",
          "text": [
            "776\n",
            "\n",
            "Training cost after iteration 775 and stop training after 675: 9.65688950987689e-05\n"
          ]
        }
      ]
    },
    {
      "cell_type": "markdown",
      "source": [
        "## Evaluasi Performansi"
      ],
      "metadata": {
        "id": "qieFhk5UdGjj"
      }
    },
    {
      "cell_type": "code",
      "source": [
        "pd.DataFrame(hist[\"hasil_eksperimen\"])"
      ],
      "metadata": {
        "colab": {
          "base_uri": "https://localhost:8080/",
          "height": 332
        },
        "id": "t8IuowQzWrXz",
        "outputId": "6f495bed-6096-4f8b-f393-82e4f010c534"
      },
      "execution_count": null,
      "outputs": [
        {
          "output_type": "execute_result",
          "data": {
            "text/html": [
              "\n",
              "  <div id=\"df-a97c82fd-e731-4a2e-99b0-f110cfcf744d\">\n",
              "    <div class=\"colab-df-container\">\n",
              "      <div>\n",
              "<style scoped>\n",
              "    .dataframe tbody tr th:only-of-type {\n",
              "        vertical-align: middle;\n",
              "    }\n",
              "\n",
              "    .dataframe tbody tr th {\n",
              "        vertical-align: top;\n",
              "    }\n",
              "\n",
              "    .dataframe thead th {\n",
              "        text-align: right;\n",
              "    }\n",
              "</style>\n",
              "<table border=\"1\" class=\"dataframe\">\n",
              "  <thead>\n",
              "    <tr style=\"text-align: right;\">\n",
              "      <th></th>\n",
              "      <th>experimen_1</th>\n",
              "      <th>experimen_2</th>\n",
              "      <th>experimen_3</th>\n",
              "      <th>experimen_4</th>\n",
              "    </tr>\n",
              "  </thead>\n",
              "  <tbody>\n",
              "    <tr>\n",
              "      <th>arsitektur</th>\n",
              "      <td>10-&gt;128-&gt;64-&gt;32-&gt;3-&gt;1</td>\n",
              "      <td>10-&gt;512-&gt;256-&gt;128-&gt;64-&gt;32-&gt;3-&gt;1</td>\n",
              "      <td>10-&gt;1024-&gt;128-&gt;512-&gt;32-&gt;3-&gt;1</td>\n",
              "      <td>10-&gt;81-&gt;27-&gt;3-&gt;1</td>\n",
              "    </tr>\n",
              "    <tr>\n",
              "      <th>f1_training</th>\n",
              "      <td>0.728602</td>\n",
              "      <td>0.467639</td>\n",
              "      <td>0.732274</td>\n",
              "      <td>0.732194</td>\n",
              "    </tr>\n",
              "    <tr>\n",
              "      <th>f1_validasi</th>\n",
              "      <td>0.732632</td>\n",
              "      <td>0.467636</td>\n",
              "      <td>0.735585</td>\n",
              "      <td>0.732492</td>\n",
              "    </tr>\n",
              "    <tr>\n",
              "      <th>f1_testing</th>\n",
              "      <td>0.557989</td>\n",
              "      <td>0.467227</td>\n",
              "      <td>0.561288</td>\n",
              "      <td>0.558642</td>\n",
              "    </tr>\n",
              "    <tr>\n",
              "      <th>cost_training</th>\n",
              "      <td>0.195913</td>\n",
              "      <td>0.370054</td>\n",
              "      <td>0.195724</td>\n",
              "      <td>0.195314</td>\n",
              "    </tr>\n",
              "    <tr>\n",
              "      <th>cost_validasi</th>\n",
              "      <td>0.19628</td>\n",
              "      <td>0.370076</td>\n",
              "      <td>0.196529</td>\n",
              "      <td>0.196889</td>\n",
              "    </tr>\n",
              "    <tr>\n",
              "      <th>cost_testing</th>\n",
              "      <td>1.00616</td>\n",
              "      <td>0.372928</td>\n",
              "      <td>0.909272</td>\n",
              "      <td>0.514715</td>\n",
              "    </tr>\n",
              "    <tr>\n",
              "      <th>jumlah_epoch</th>\n",
              "      <td>206</td>\n",
              "      <td>95</td>\n",
              "      <td>47</td>\n",
              "      <td>675</td>\n",
              "    </tr>\n",
              "    <tr>\n",
              "      <th>durasi_training</th>\n",
              "      <td>9.3524 menit</td>\n",
              "      <td>6.5812 menit</td>\n",
              "      <td>4.8276 menit</td>\n",
              "      <td>21.8119 menit</td>\n",
              "    </tr>\n",
              "  </tbody>\n",
              "</table>\n",
              "</div>\n",
              "      <button class=\"colab-df-convert\" onclick=\"convertToInteractive('df-a97c82fd-e731-4a2e-99b0-f110cfcf744d')\"\n",
              "              title=\"Convert this dataframe to an interactive table.\"\n",
              "              style=\"display:none;\">\n",
              "        \n",
              "  <svg xmlns=\"http://www.w3.org/2000/svg\" height=\"24px\"viewBox=\"0 0 24 24\"\n",
              "       width=\"24px\">\n",
              "    <path d=\"M0 0h24v24H0V0z\" fill=\"none\"/>\n",
              "    <path d=\"M18.56 5.44l.94 2.06.94-2.06 2.06-.94-2.06-.94-.94-2.06-.94 2.06-2.06.94zm-11 1L8.5 8.5l.94-2.06 2.06-.94-2.06-.94L8.5 2.5l-.94 2.06-2.06.94zm10 10l.94 2.06.94-2.06 2.06-.94-2.06-.94-.94-2.06-.94 2.06-2.06.94z\"/><path d=\"M17.41 7.96l-1.37-1.37c-.4-.4-.92-.59-1.43-.59-.52 0-1.04.2-1.43.59L10.3 9.45l-7.72 7.72c-.78.78-.78 2.05 0 2.83L4 21.41c.39.39.9.59 1.41.59.51 0 1.02-.2 1.41-.59l7.78-7.78 2.81-2.81c.8-.78.8-2.07 0-2.86zM5.41 20L4 18.59l7.72-7.72 1.47 1.35L5.41 20z\"/>\n",
              "  </svg>\n",
              "      </button>\n",
              "      \n",
              "  <style>\n",
              "    .colab-df-container {\n",
              "      display:flex;\n",
              "      flex-wrap:wrap;\n",
              "      gap: 12px;\n",
              "    }\n",
              "\n",
              "    .colab-df-convert {\n",
              "      background-color: #E8F0FE;\n",
              "      border: none;\n",
              "      border-radius: 50%;\n",
              "      cursor: pointer;\n",
              "      display: none;\n",
              "      fill: #1967D2;\n",
              "      height: 32px;\n",
              "      padding: 0 0 0 0;\n",
              "      width: 32px;\n",
              "    }\n",
              "\n",
              "    .colab-df-convert:hover {\n",
              "      background-color: #E2EBFA;\n",
              "      box-shadow: 0px 1px 2px rgba(60, 64, 67, 0.3), 0px 1px 3px 1px rgba(60, 64, 67, 0.15);\n",
              "      fill: #174EA6;\n",
              "    }\n",
              "\n",
              "    [theme=dark] .colab-df-convert {\n",
              "      background-color: #3B4455;\n",
              "      fill: #D2E3FC;\n",
              "    }\n",
              "\n",
              "    [theme=dark] .colab-df-convert:hover {\n",
              "      background-color: #434B5C;\n",
              "      box-shadow: 0px 1px 3px 1px rgba(0, 0, 0, 0.15);\n",
              "      filter: drop-shadow(0px 1px 2px rgba(0, 0, 0, 0.3));\n",
              "      fill: #FFFFFF;\n",
              "    }\n",
              "  </style>\n",
              "\n",
              "      <script>\n",
              "        const buttonEl =\n",
              "          document.querySelector('#df-a97c82fd-e731-4a2e-99b0-f110cfcf744d button.colab-df-convert');\n",
              "        buttonEl.style.display =\n",
              "          google.colab.kernel.accessAllowed ? 'block' : 'none';\n",
              "\n",
              "        async function convertToInteractive(key) {\n",
              "          const element = document.querySelector('#df-a97c82fd-e731-4a2e-99b0-f110cfcf744d');\n",
              "          const dataTable =\n",
              "            await google.colab.kernel.invokeFunction('convertToInteractive',\n",
              "                                                     [key], {});\n",
              "          if (!dataTable) return;\n",
              "\n",
              "          const docLinkHtml = 'Like what you see? Visit the ' +\n",
              "            '<a target=\"_blank\" href=https://colab.research.google.com/notebooks/data_table.ipynb>data table notebook</a>'\n",
              "            + ' to learn more about interactive tables.';\n",
              "          element.innerHTML = '';\n",
              "          dataTable['output_type'] = 'display_data';\n",
              "          await google.colab.output.renderOutput(dataTable, element);\n",
              "          const docLink = document.createElement('div');\n",
              "          docLink.innerHTML = docLinkHtml;\n",
              "          element.appendChild(docLink);\n",
              "        }\n",
              "      </script>\n",
              "    </div>\n",
              "  </div>\n",
              "  "
            ],
            "text/plain": [
              "                           experimen_1  ...       experimen_4\n",
              "arsitektur       10->128->64->32->3->1  ...  10->81->27->3->1\n",
              "f1_training                   0.728602  ...          0.732194\n",
              "f1_validasi                   0.732632  ...          0.732492\n",
              "f1_testing                    0.557989  ...          0.558642\n",
              "cost_training                 0.195913  ...          0.195314\n",
              "cost_validasi                  0.19628  ...          0.196889\n",
              "cost_testing                   1.00616  ...          0.514715\n",
              "jumlah_epoch                       206  ...               675\n",
              "durasi_training           9.3524 menit  ...     21.8119 menit\n",
              "\n",
              "[9 rows x 4 columns]"
            ]
          },
          "metadata": {},
          "execution_count": 52
        }
      ]
    },
    {
      "cell_type": "code",
      "source": [
        "evplot(hist, 1)"
      ],
      "metadata": {
        "colab": {
          "base_uri": "https://localhost:8080/",
          "height": 460
        },
        "id": "p29mhk_2X5Lo",
        "outputId": "ee51b4eb-58e5-461b-b851-2449130be507"
      },
      "execution_count": null,
      "outputs": [
        {
          "output_type": "display_data",
          "data": {
            "image/png": "[encoded data removed]",
            "text/plain": [
              "<Figure size 1440x504 with 3 Axes>"
            ]
          },
          "metadata": {
            "needs_background": "light"
          }
        }
      ]
    },
    {
      "cell_type": "code",
      "source": [
        "evplot(hist, 2)"
      ],
      "metadata": {
        "colab": {
          "base_uri": "https://localhost:8080/",
          "height": 460
        },
        "id": "f-paoM9WzN7D",
        "outputId": "c9cddc57-3f0f-43f0-ce5b-1176aeff8de1"
      },
      "execution_count": null,
      "outputs": [
        {
          "output_type": "display_data",
          "data": {
            "image/png": "[encoded data removed]",
            "text/plain": [
              "<Figure size 1440x504 with 3 Axes>"
            ]
          },
          "metadata": {
            "needs_background": "light"
          }
        }
      ]
    },
    {
      "cell_type": "code",
      "source": [
        "evplot(hist, 3)"
      ],
      "metadata": {
        "colab": {
          "base_uri": "https://localhost:8080/",
          "height": 460
        },
        "id": "BLptE4onz7iF",
        "outputId": "64f0595d-73b3-4534-c658-b22785721397"
      },
      "execution_count": null,
      "outputs": [
        {
          "output_type": "display_data",
          "data": {
            "image/png": "[encoded data removed]",
            "text/plain": [
              "<Figure size 1440x504 with 3 Axes>"
            ]
          },
          "metadata": {
            "needs_background": "light"
          }
        }
      ]
    },
    {
      "cell_type": "code",
      "source": [
        "evplot(hist, 4)"
      ],
      "metadata": {
        "colab": {
          "base_uri": "https://localhost:8080/",
          "height": 460
        },
        "id": "5mvBMjGI0bm_",
        "outputId": "62eaf15b-761f-4d0c-a23f-0b8fc8ada1c3"
      },
      "execution_count": null,
      "outputs": [
        {
          "output_type": "display_data",
          "data": {
            "image/png": "[encoded data removed]",
            "text/plain": [
              "<Figure size 1440x504 with 3 Axes>"
            ]
          },
          "metadata": {
            "needs_background": "light"
          }
        }
      ]
    }
  ],
  "metadata": {
    "accelerator": "GPU",
    "colab": {
      "collapsed_sections": [],
      "name": "tubes2.ipynb",
      "provenance": []
    },
    "kernelspec": {
      "display_name": "Python 3 (ipykernel)",
      "language": "python",
      "name": "python3"
    },
    "language_info": {
      "codemirror_mode": {
        "name": "ipython",
        "version": 3
      },
      "file_extension": ".py",
      "mimetype": "text/x-python",
      "name": "python",
      "nbconvert_exporter": "python",
      "pygments_lexer": "ipython3",
      "version": "3.9.7"
    }
  },
  "nbformat": 4,
  "nbformat_minor": 0
}